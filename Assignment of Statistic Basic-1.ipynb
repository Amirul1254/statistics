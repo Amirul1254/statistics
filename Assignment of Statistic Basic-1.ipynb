{
 "cells": [
  {
   "cell_type": "markdown",
   "id": "4ba3b83d-ffd5-41ef-98c1-fd6a8e1304f0",
   "metadata": {},
   "source": [
    "Q1) What is Statistics?\n",
    "\n",
    "Ans= Statistics is the science of collecting, organizing and analyzing data."
   ]
  },
  {
   "cell_type": "markdown",
   "id": "a61c13e8-0a4a-4262-8843-45de09c0ba4f",
   "metadata": {},
   "source": [
    "Q2) Define the different types of statistics and give an example of when each type might be used?\n",
    "\n",
    "Ans= Statistics are mainly two types :\n",
    "    i) Descriptive Statistics\n",
    "    ii) Inferential Statistics\n",
    "    \n",
    "Descriptive Statistics = It consists of organizing and summarizing data.\n",
    "\n",
    "Inferential Statistics = It consists of using data you have measured to form conclusion.\n",
    "\n",
    "Descriptive Statistics might be used in histogram, pdf function, profebility marks function.\n",
    "\n",
    "Inferential Statistics might be used in finding population data from sample data."
   ]
  },
  {
   "cell_type": "markdown",
   "id": "2bd0a3e8-1d57-4108-8977-a18d37f3efe8",
   "metadata": {},
   "source": [
    "Q3) What are the different types of data and how do they differ from each other? Provide an example of each type of data.\n",
    "\n",
    "Ans= Data are mainly two types :\n",
    "    i) Quantative Data\n",
    "    ii)Qualative Data\n",
    "    \n",
    "Quantative Data means numerical, Addition,substraction,division and multiplication can be done.\n",
    "\n",
    "Qualative Data means catagorical data or variable.\n",
    "\n",
    "Example of Quantative Data is like no. of bank account of a person = 5\n",
    "\n",
    "Example of Qualative is like (Present, Absent)"
   ]
  },
  {
   "cell_type": "raw",
   "id": "3e33aa7c-2516-4744-9616-c756097ed2b6",
   "metadata": {},
   "source": [
    "Q4) Catagorise the following database with respect to quantitative and qualitative data types:\n",
    "    \n",
    "    i) Grading in exam : A+ , A , B+ , B , C+ , C , D , E =(Qualitative data type)\n",
    "    \n",
    "    ii) Colour of mangoes : yellow , green , orange , red =(Qualitative data type)\n",
    "    \n",
    "    iii) Height data of a class : [178.9, 179, 179.5, 176, 177.2, 178.3, 175.8,...] = ( Quantitative Continuous data type)\n",
    "    \n",
    "    iv) Number of mangoes exported by a farm : [500, 600, 478, 672, ....] = (Quantitative Discrete data type)"
   ]
  },
  {
   "cell_type": "markdown",
   "id": "c65d11d1-3884-4715-b50f-851518ceba35",
   "metadata": {},
   "source": [
    "Q5) Explain of concept of levels of measurement and give an example of a variable for each level.\n",
    "\n",
    "Ans= There are 4 levels of measurement , which can be ranked from low to high:\n",
    "    Nominal: The data can only be catagorized.\n",
    "    Ordinal: The data can be catagorized and ranked.\n",
    "    Interval: The data can be catagorized, ranked and evenly spaced.\n",
    "    Ratio: The data can be catagorized, ranked, evenly spaced and has a natural zero.\n",
    "    \n",
    "Example of Nominal is like blood group(A+ , AB-), favorite colour(red , blue).\n",
    "Example of Ordinal is like feedback(best , good , bad)\n",
    "Example of Interval is like tempereture variable (30F , 40F , 90F)\n",
    "Example of Ratio is like Students number (45, 65 ,78, 80 ,90)"
   ]
  },
  {
   "cell_type": "markdown",
   "id": "ed976b02-2398-46fc-a0ea-93a0167b1fdc",
   "metadata": {},
   "source": [
    "Q6) Why is it important to understand the level of measurement when analyzing data?Provide an example to illustrate your answer.\n",
    "\n",
    "Ans = It is important to understand the level of measurement when analyzing data because the level of measurement determines the type of \n",
    "statistical analysis that can be conducted and therefore the type of conclusions that can be drawn from the analyzing.\n",
    "\n",
    "Exam = Temperature like 60c is colder than 65c  and the temperature difference is the same as the difference between 50c and 55c."
   ]
  },
  {
   "cell_type": "markdown",
   "id": "cdb41080-7172-41ae-a45a-4f39f770d09c",
   "metadata": {},
   "source": [
    "Q7) How nominal data type is different from ordinal data type.\n",
    "\n",
    "Ans = In nominal data type we can not compare between datas like in favorite colour we can not compare red with blue, and also order does not matter.\n",
    "      but in Ordinal data type we can like best , good , bad ,    order does matter,and also  ranking is importent."
   ]
  },
  {
   "cell_type": "markdown",
   "id": "e24dba01-a2a7-4169-bd8c-f7bddea62638",
   "metadata": {},
   "source": [
    "Q8) Which type of plot can be used to display data in terms of range?\n",
    "\n",
    "Ans = Histogram"
   ]
  },
  {
   "cell_type": "markdown",
   "id": "98a0da55-87d9-46b2-aea0-c10cb0e96b46",
   "metadata": {},
   "source": [
    "Q9) Describe the difference between descriptive and inferential statistics. Give an example of each type of statistics and explain how they are used.\n",
    "\n",
    "Ans = Descriptive Statistics = It consists of organizing and summarizing data.\n",
    "\n",
    "     Inferential Statistics = It consists of using data you have measured to form conclusion.\n",
    "    \n",
    "Examole of Descriptive Statistics is Histogram.\n",
    "      It is used to display data in terms of range.\n",
    "    \n",
    "Examole of Inferential Statistics is sample data.\n",
    "  Which is used to find out Population data like to mesure average weight of students in a class we mesure a small a small count of student and find out \n",
    "    whole class's student's weight."
   ]
  },
  {
   "cell_type": "code",
   "execution_count": null,
   "id": "9e254ab3-3721-4f32-ba2b-17fa31033b37",
   "metadata": {},
   "outputs": [],
   "source": [
    "Q10) What are some common mesure of central tendency and variability used in statistics? Explain how each measure can \n",
    "be used to describe a data set.\n",
    "\n",
    "Ans = Measures of central tendency and variability are common statistical tools used to describe the distribution of a set of data.\n",
    "some of the most commonly used measures of central tendency include:\n",
    "\n",
    "Mean = Just add up all of the values and divide by the number of observations in our dataset. \n",
    "Median = The median is the middle score for a set of data that has been arranged in order of magnitude.\n",
    "like 45,47,89,100,101,105,106  100 is the median.\n",
    "\n",
    "mode = The mode is used for categorical data where we wish to know which is the most common catagory.\n",
    "like bus is 45 , cycle is 65, auto is 35 and bike is 90 in graph bike is mode.\n",
    "\n",
    "Measures of variability provide information about how spread out of the data is. some common measures of variability include:\n",
    "    \n",
    "    Range = The range is the difference between the largest and smallest values in a data set.\n",
    "    \n",
    "    Variance = The variance is the average of the squared difference of each data point from the mean.\n",
    "    \n",
    "    Standard deviation = The standard deviation is the square root of the variance and it provides a measure o"
   ]
  }
 ],
 "metadata": {
  "kernelspec": {
   "display_name": "Python 3 (ipykernel)",
   "language": "python",
   "name": "python3"
  },
  "language_info": {
   "codemirror_mode": {
    "name": "ipython",
    "version": 3
   },
   "file_extension": ".py",
   "mimetype": "text/x-python",
   "name": "python",
   "nbconvert_exporter": "python",
   "pygments_lexer": "ipython3",
   "version": "3.10.8"
  }
 },
 "nbformat": 4,
 "nbformat_minor": 5
}
